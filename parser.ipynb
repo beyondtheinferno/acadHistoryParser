{
 "cells": [
  {
   "cell_type": "code",
   "execution_count": 1,
   "metadata": {
    "collapsed": true
   },
   "outputs": [],
   "source": [
    "import docx2txt\n",
    "import pandas as pd\n",
    "import numpy as np"
   ]
  },
  {
   "cell_type": "code",
   "execution_count": 2,
   "metadata": {
    "collapsed": true
   },
   "outputs": [],
   "source": [
    "class Student_details:\n",
    "    regNo = \"\"\n",
    "    name = \"\"\n",
    "    program = \"\"\n",
    "    school = \"\"\n",
    "    creditsRegistered = 0\n",
    "    creditsEarned = 0\n",
    "    CGPA = 0\n",
    "    \n",
    "    def getNameDetails(self, metadata, value):\n",
    "        if(metadata == \"Reg. No.\"):\n",
    "            self.regNo = value\n",
    "        if(metadata == \"Name\"):\n",
    "            self.name = value.title()\n",
    "        if(metadata == \"Program\"):\n",
    "            self.program = value[8:]\n",
    "        if(metadata == \"School\"):\n",
    "            self.school = value\n",
    "\n",
    "    keys = ['S', 'A', 'B', 'C', 'D', 'E', 'F', 'N']\n",
    "    gradeCategories = dict.fromkeys(keys, 0)\n",
    "    noOfCreditsRegistered = 0\n",
    "    noOfCreditsAcquired = 0\n",
    "    def getGradeCategories(self, value):\n",
    "        for i in range(0, 8):\n",
    "            self.gradeCategories[self.keys[i]] = value[-(8-i)]\n",
    "        self.noOfCreditsRegistered = int(value[3])\n",
    "        self.noOfCreditsAcquired = int(value[4])\n",
    "        self.CGPA = float(value[5])"
   ]
  },
  {
   "cell_type": "code",
   "execution_count": 3,
   "metadata": {
    "collapsed": true
   },
   "outputs": [],
   "source": [
    "#Instance of the student\n",
    "student = Student_details()"
   ]
  },
  {
   "cell_type": "code",
   "execution_count": 8,
   "metadata": {},
   "outputs": [
    {
     "name": "stdout",
     "output_type": "stream",
     "text": [
      "['STUDENT ACADEMIC HISTORY', 'Date & Time : 25/06/2018 14:56:40', 'General:', 'Reg. No.', '16BCE1241', 'Name', 'RAAGUL N', 'Program', 'B.Tech. Computer Science and Engineering', 'School', 'SCSE', 'History:', 'Sl.No.', 'Course Code', 'Course Title', 'Course Type', 'Credit', 'Grade', 'Exam Held', 'Result Date', 'Course Option', '1', 'CHY1001', 'Engineering Chemistry', 'Embedded - Theory, Lab & Project', '5', 'A', 'Nov-2016', '23-Dec-2016', 'NIL', '2', 'CHY1002', 'Environmental Sciences', 'Embedded Project', '-', 'May-2017', '19-Jun-2017', 'NIL', '3', 'CHY1002', 'Environmental Sciences', 'Embedded Theory', '-', 'May-2017', '19-Jun-2017', 'NIL', '4', 'CHY1002', 'Environmental Sciences', 'Embedded - Theory & Project', '3', 'A', 'May-2017', '19-Jun-2017', 'NIL', '5', 'CSE1001', 'Problem Solving and Programming', 'Lab Only', '3', 'S', 'Nov-2016', '23-Dec-2016', 'NIL', '6', 'CSE1002', 'Problem Solving with Object Oriented Programming', 'Lab Only', '3', 'S', 'May-2017', '19-Jun-2017', 'NIL', '7', 'CSE1003', 'Digital Logic and Design', 'Embedded Lab', '-', 'May-2017', '19-Jun-2017', 'NIL', '8', 'CSE1003', 'Digital Logic and Design', 'Embedded - Theory, Lab & Project', '4', 'B', 'May-2017', '19-Jun-2017', 'NIL', '9', 'CSE1003', 'Digital Logic and Design', 'Embedded Theory', '-', 'May-2017', '19-Jun-2017', 'NIL', '10', 'CSE1003', 'Digital Logic and Design', 'Embedded Project', '-', 'May-2017', '19-Jun-2017', 'NIL', '11', 'CSE1004', 'Network and Communication', 'Embedded - Theory & Lab', '4', 'C', 'Apr-2018', '09-May-2018', 'NIL', '12', 'CSE1004', 'Network and Communication', 'Embedded Theory', '-', 'Apr-2018', '09-May-2018', 'NIL', '13', 'CSE1004', 'Network and Communication', 'Embedded Lab', '-', 'Apr-2018', '09-May-2018', 'NIL', '14', 'CSE2001', 'Computer Architecture and Organization', 'Theory Only', '3', 'B', 'Nov-2017', '19-Dec-2017', 'NIL', '15', 'CSE2003', 'Data Structures and Algorithms', 'Embedded Project', '-', 'Nov-2017', '20-Dec-2017', 'NIL', '16', 'CSE2003', 'Data Structures and Algorithms', 'Embedded Lab', '-', 'Nov-2017', '20-Dec-2017', 'NIL', '17', 'CSE2003', 'Data Structures and Algorithms', 'Embedded Theory', '-', 'Nov-2017', '20-Dec-2017', 'NIL', '18', 'CSE2003', 'Data Structures and Algorithms', 'Embedded - Theory, Lab & Project', '4', 'B', 'Nov-2017', '20-Dec-2017', 'NIL', '19', 'CSE2004', 'Database Management System', 'Embedded Theory', '-', 'May-2017', '19-Jun-2017', 'NIL', '20', 'CSE2004', 'Database Management System', 'Embedded Project', '-', 'May-2017', '19-Jun-2017', 'NIL', '21', 'CSE2004', 'Database Management System', 'Embedded Lab', '-', 'May-2017', '19-Jun-2017', 'NIL', '22', 'CSE2004', 'Database Management System', 'Embedded - Theory, Lab & Project', '4', 'A', 'May-2017', '19-Jun-2017', 'NIL', '23', 'CSE2005', 'Operating Systems', 'Embedded Theory', '-', 'Apr-2018', '09-May-2018', 'NIL', '24', 'CSE2005', 'Operating Systems', 'Embedded Project', '-', 'Apr-2018', '09-May-2018', 'NIL', '25', 'CSE2005', 'Operating Systems', 'Embedded Lab', '-', 'Apr-2018', '09-May-2018', 'NIL', '26', 'CSE2005', 'Operating Systems', 'Embedded - Theory, Lab & Project', '4', 'A', 'Apr-2018', '09-May-2018', 'NIL', '27', 'CSE2006', 'Microprocessor and Interfacing', 'Embedded Lab', '-', 'Apr-2018', '09-May-2018', 'NIL', '28', 'CSE2006', 'Microprocessor and Interfacing', 'Embedded Project', '-', 'Apr-2018', '09-May-2018', 'NIL', '29', 'CSE2006', 'Microprocessor and Interfacing', 'Embedded Theory', '-', 'Apr-2018', '09-May-2018', 'NIL', '30', 'CSE2006', 'Microprocessor and Interfacing', 'Embedded - Theory, Lab & Project', '4', 'A', 'Apr-2018', '09-May-2018', 'NIL', '31', 'CSE3001', 'Software Engineering', 'Embedded Lab', '-', 'Nov-2017', '20-Dec-2017', 'NIL', '32', 'CSE3001', 'Software Engineering', 'Embedded Project', '-', 'Nov-2017', '20-Dec-2017', 'NIL', '33', 'CSE3001', 'Software Engineering', 'Embedded Theory', '-', 'Nov-2017', '20-Dec-2017', 'NIL', '34', 'CSE3001', 'Software Engineering', 'Embedded - Theory, Lab & Project', '4', 'B', 'Nov-2017', '20-Dec-2017', 'NIL', '35', 'CSE3002', 'Internet and Web Programming', 'Embedded Lab', '-', 'Nov-2017', '20-Dec-2017', 'NIL', '36', 'CSE3002', 'Internet and Web Programming', 'Embedded Project', '-', 'Nov-2017', '20-Dec-2017', 'NIL', '37', 'CSE3002', 'Internet and Web Programming', 'Embedded Theory', '-', 'Nov-2017', '20-Dec-2017', 'NIL', '38', 'CSE3002', 'Internet and Web Programming', 'Embedded - Theory, Lab & Project', '4', 'B', 'Nov-2017', '20-Dec-2017', 'NIL', '39', 'CSE4020', 'Machine Learning', 'Embedded Project', '-', 'Apr-2018', '09-May-2018', 'NIL', '40', 'CSE4020', 'Machine Learning', 'Embedded Lab', '-', 'Apr-2018', '09-May-2018', 'NIL', '41', 'CSE4020', 'Machine Learning', 'Embedded Theory', '-', 'Apr-2018', '09-May-2018', 'NIL', '42', 'CSE4020', 'Machine Learning', 'Embedded - Theory, Lab & Project', '4', 'A', 'Apr-2018', '09-May-2018', 'NIL', '43', 'EEE1001', 'Basic Electrical and Electronics Engineering', 'Embedded - Theory & Lab', '3', 'A', 'Nov-2016', '23-Dec-2016', 'NIL', '44', 'ENG1011', 'English for Engineers', 'Embedded - Lab & Project', '2', 'S', 'Nov-2016', '27-Dec-2016', 'NIL', '45', 'EXC1001', 'Service to the Society(National Service Scheme)', 'Lab Only', '2', 'P', 'Apr-2018', '11-May-2018', 'NIL', '46', 'GER1001', 'Grundstufe Deutsch', 'Theory Only', '2', 'S', 'Nov-2016', '23-Dec-2016', 'NIL', '47', 'HUM1021', 'Ethics and Values', 'Embedded Project', '-', 'May-2017', '19-Jun-2017', 'NIL', '48', 'HUM1021', 'Ethics and Values', 'Embedded Theory', '-', 'May-2017', '19-Jun-2017', 'NIL', '49', 'HUM1021', 'Ethics and Values', 'Embedded - Theory & Project', '2', 'B', 'May-2017', '19-Jun-2017', 'NIL', '50', 'HUM1039', 'Community Development in India', 'Embedded Project', '-', 'Apr-2018', '09-May-2018', 'NIL', '51', 'HUM1039', 'Community Development in India', 'Embedded Theory', '-', 'Apr-2018', '09-May-2018', 'NIL', '52', 'HUM1039', 'Community Development in India', 'Embedded - Theory & Project', '3', 'B', 'Apr-2018', '09-May-2018', 'NIL', '53', 'MAT1011', 'Calculus for Engineers', 'Embedded Theory', '-', 'Nov-2017', '27-Dec-2017', 'NIL', '54', 'MAT1011', 'Calculus for Engineers', 'Embedded Lab', '-', 'Nov-2017', '27-Dec-2017', 'NIL', '55', 'MAT1011', 'Calculus for Engineers', 'Embedded - Theory & Lab', '4', 'B', 'Nov-2017', '27-Dec-2017', 'NIL', '56', 'MAT1011', 'Calculus for Engineers', 'Embedded - Theory & Lab', '4', 'N', 'Nov-2016', '23-Dec-2016', 'NIL', '57', 'MAT1014', 'Discrete Mathematics and Graph Theory', 'Theory Only', '4', 'B', 'Nov-2017', '19-Dec-2017', 'NIL', '58', 'MAT2001', 'Statistics for Engineers', 'Embedded Lab', '-', 'May-2017', '19-Jun-2017', 'NIL', '59', 'MAT2001', 'Statistics for Engineers', 'Embedded Theory', '-', 'May-2017', '19-Jun-2017', 'NIL', '60', 'MAT2001', 'Statistics for Engineers', 'Embedded - Theory & Lab', '4', 'B', 'May-2017', '19-Jun-2017', 'NIL', '61', 'MAT2002', 'Applications of Differential and Difference Equations', 'Embedded Lab', '-', 'Apr-2018', '09-May-2018', 'NIL', '62', 'MAT2002', 'Applications of Differential and Difference Equations', 'Embedded Theory', '-', 'Apr-2018', '09-May-2018', 'NIL', '63', 'MAT2002', 'Applications of Differential and Difference Equations', 'Embedded - Theory & Lab', '4', 'B', 'Apr-2018', '09-May-2018', 'NIL', '64', 'MGT1022', 'Lean Start-up Management', 'Embedded Project', '-', 'Nov-2017', '20-Dec-2017', 'NIL', '65', 'MGT1022', 'Lean Start-up Management', 'Embedded - Theory & Project', '2', 'A', 'Nov-2017', '20-Dec-2017', 'NIL', '66', 'MGT1022', 'Lean Start-up Management', 'Embedded Theory', '-', 'Nov-2017', '20-Dec-2017', 'NIL', '67', 'PHY1001', 'Engineering Physics', 'Embedded - Theory, Lab & Project', '5', 'A', 'Nov-2016', '26-Dec-2016', 'NIL', '68', 'PHY1999', 'Introduction to Innovative Projects', 'Embedded Project', '-', 'May-2017', '08-Jul-2017', 'NIL', '69', 'PHY1999', 'Introduction to Innovative Projects', 'Embedded Theory', '-', 'May-2017', '08-Jul-2017', 'NIL', '70', 'PHY1999', 'Introduction to Innovative Projects', 'Embedded - Theory & Project', '2', 'S', 'May-2017', '08-Jul-2017', 'NIL', '71', 'STS1001', 'Soft Skills', 'Soft Skill', '1', 'S', 'May-2017', '14-Jun-2017', 'NIL', '72', 'STS2001', 'Soft Skills', 'Soft Skill', '1', 'C', 'Nov-2017', '28-Dec-2017', 'NIL', '73', 'STS2002', 'Introduction to Etiquette', 'Soft Skill', '1', 'B', 'Apr-2018', '09-May-2018', 'NIL', 'Credits Registered', 'Credits Earned', 'CGPA', '95', '95', '8.59', 'No. of ', 'S Grades', 'No. of ', 'A Grades', 'No. of ', 'B Grades', 'No. of ', 'C Grades', 'No. of ', 'D Grades', 'No. of ', 'E Grades', 'No. of ', 'F Grades / Arrears', 'No. of ', 'N Grades', '6', '9', '12', '2', '0', '0', '0', '0']\n"
     ]
    }
   ],
   "source": [
    "#convert DOC -> STRING, split STRING -> LIST CONTAINING LINES\n",
    "#abc = docx2txt.process(r'C:\\Users\\Raagul\\Desktop\\Hell\\History.docx')\n",
    "abc = docx2txt.process(r'C:\\Users\\Raagul\\My Files\\Projects\\acadHistoryParser\\acadHistoryParsing\\1241history.docx')\n",
    "content = []\n",
    "for line in abc.splitlines():\n",
    "  if line != '':\n",
    "    content.append(line)\n",
    "print(content)"
   ]
  },
  {
   "cell_type": "code",
   "execution_count": 9,
   "metadata": {},
   "outputs": [
    {
     "name": "stdout",
     "output_type": "stream",
     "text": [
      "Name ->  Raagul N\n",
      "Reg. No. ->  16BCE1241\n",
      "Program -> Computer Science and Engineering\n",
      "School -> SCSE\n"
     ]
    }
   ],
   "source": [
    "#Get STUDENT details\n",
    "metadata = content[0:11]\n",
    "metadata_length = len(metadata)\n",
    "\n",
    "for i in range(metadata_length):\n",
    "    if(i < metadata_length-1):\n",
    "        student.getNameDetails(metadata[i], metadata[i+1])\n",
    "    \n",
    "print(\"Name -> \", student.name)\n",
    "print(\"Reg. No. -> \", student.regNo)\n",
    "print(\"Program ->\", student.program)\n",
    "print(\"School ->\", student.school)"
   ]
  },
  {
   "cell_type": "code",
   "execution_count": 10,
   "metadata": {},
   "outputs": [
    {
     "name": "stdout",
     "output_type": "stream",
     "text": [
      "['1', 'CHY1001', 'Engineering Chemistry', 'Embedded - Theory, Lab & Project', '5', 'A', 'Nov-2016', '23-Dec-2016', 'NIL', '2', 'CHY1002', 'Environmental Sciences', 'Embedded Project', '-', 'May-2017', '19-Jun-2017', 'NIL', '3', 'CHY1002', 'Environmental Sciences', 'Embedded Theory', '-', 'May-2017', '19-Jun-2017', 'NIL', '4', 'CHY1002', 'Environmental Sciences', 'Embedded - Theory & Project', '3', 'A', 'May-2017', '19-Jun-2017', 'NIL', '5', 'CSE1001', 'Problem Solving and Programming', 'Lab Only', '3', 'S', 'Nov-2016', '23-Dec-2016', 'NIL', '6', 'CSE1002', 'Problem Solving with Object Oriented Programming', 'Lab Only', '3', 'S', 'May-2017', '19-Jun-2017', 'NIL', '7', 'CSE1003', 'Digital Logic and Design', 'Embedded Lab', '-', 'May-2017', '19-Jun-2017', 'NIL', '8', 'CSE1003', 'Digital Logic and Design', 'Embedded - Theory, Lab & Project', '4', 'B', 'May-2017', '19-Jun-2017', 'NIL', '9', 'CSE1003', 'Digital Logic and Design', 'Embedded Theory', '-', 'May-2017', '19-Jun-2017', 'NIL', '10', 'CSE1003', 'Digital Logic and Design', 'Embedded Project', '-', 'May-2017', '19-Jun-2017', 'NIL', '11', 'CSE1004', 'Network and Communication', 'Embedded - Theory & Lab', '4', 'C', 'Apr-2018', '09-May-2018', 'NIL', '12', 'CSE1004', 'Network and Communication', 'Embedded Theory', '-', 'Apr-2018', '09-May-2018', 'NIL', '13', 'CSE1004', 'Network and Communication', 'Embedded Lab', '-', 'Apr-2018', '09-May-2018', 'NIL', '14', 'CSE2001', 'Computer Architecture and Organization', 'Theory Only', '3', 'B', 'Nov-2017', '19-Dec-2017', 'NIL', '15', 'CSE2003', 'Data Structures and Algorithms', 'Embedded Project', '-', 'Nov-2017', '20-Dec-2017', 'NIL', '16', 'CSE2003', 'Data Structures and Algorithms', 'Embedded Lab', '-', 'Nov-2017', '20-Dec-2017', 'NIL', '17', 'CSE2003', 'Data Structures and Algorithms', 'Embedded Theory', '-', 'Nov-2017', '20-Dec-2017', 'NIL', '18', 'CSE2003', 'Data Structures and Algorithms', 'Embedded - Theory, Lab & Project', '4', 'B', 'Nov-2017', '20-Dec-2017', 'NIL', '19', 'CSE2004', 'Database Management System', 'Embedded Theory', '-', 'May-2017', '19-Jun-2017', 'NIL', '20', 'CSE2004', 'Database Management System', 'Embedded Project', '-', 'May-2017', '19-Jun-2017', 'NIL', '21', 'CSE2004', 'Database Management System', 'Embedded Lab', '-', 'May-2017', '19-Jun-2017', 'NIL', '22', 'CSE2004', 'Database Management System', 'Embedded - Theory, Lab & Project', '4', 'A', 'May-2017', '19-Jun-2017', 'NIL', '23', 'CSE2005', 'Operating Systems', 'Embedded Theory', '-', 'Apr-2018', '09-May-2018', 'NIL', '24', 'CSE2005', 'Operating Systems', 'Embedded Project', '-', 'Apr-2018', '09-May-2018', 'NIL', '25', 'CSE2005', 'Operating Systems', 'Embedded Lab', '-', 'Apr-2018', '09-May-2018', 'NIL', '26', 'CSE2005', 'Operating Systems', 'Embedded - Theory, Lab & Project', '4', 'A', 'Apr-2018', '09-May-2018', 'NIL', '27', 'CSE2006', 'Microprocessor and Interfacing', 'Embedded Lab', '-', 'Apr-2018', '09-May-2018', 'NIL', '28', 'CSE2006', 'Microprocessor and Interfacing', 'Embedded Project', '-', 'Apr-2018', '09-May-2018', 'NIL', '29', 'CSE2006', 'Microprocessor and Interfacing', 'Embedded Theory', '-', 'Apr-2018', '09-May-2018', 'NIL', '30', 'CSE2006', 'Microprocessor and Interfacing', 'Embedded - Theory, Lab & Project', '4', 'A', 'Apr-2018', '09-May-2018', 'NIL', '31', 'CSE3001', 'Software Engineering', 'Embedded Lab', '-', 'Nov-2017', '20-Dec-2017', 'NIL', '32', 'CSE3001', 'Software Engineering', 'Embedded Project', '-', 'Nov-2017', '20-Dec-2017', 'NIL', '33', 'CSE3001', 'Software Engineering', 'Embedded Theory', '-', 'Nov-2017', '20-Dec-2017', 'NIL', '34', 'CSE3001', 'Software Engineering', 'Embedded - Theory, Lab & Project', '4', 'B', 'Nov-2017', '20-Dec-2017', 'NIL', '35', 'CSE3002', 'Internet and Web Programming', 'Embedded Lab', '-', 'Nov-2017', '20-Dec-2017', 'NIL', '36', 'CSE3002', 'Internet and Web Programming', 'Embedded Project', '-', 'Nov-2017', '20-Dec-2017', 'NIL', '37', 'CSE3002', 'Internet and Web Programming', 'Embedded Theory', '-', 'Nov-2017', '20-Dec-2017', 'NIL', '38', 'CSE3002', 'Internet and Web Programming', 'Embedded - Theory, Lab & Project', '4', 'B', 'Nov-2017', '20-Dec-2017', 'NIL', '39', 'CSE4020', 'Machine Learning', 'Embedded Project', '-', 'Apr-2018', '09-May-2018', 'NIL', '40', 'CSE4020', 'Machine Learning', 'Embedded Lab', '-', 'Apr-2018', '09-May-2018', 'NIL', '41', 'CSE4020', 'Machine Learning', 'Embedded Theory', '-', 'Apr-2018', '09-May-2018', 'NIL', '42', 'CSE4020', 'Machine Learning', 'Embedded - Theory, Lab & Project', '4', 'A', 'Apr-2018', '09-May-2018', 'NIL', '43', 'EEE1001', 'Basic Electrical and Electronics Engineering', 'Embedded - Theory & Lab', '3', 'A', 'Nov-2016', '23-Dec-2016', 'NIL', '44', 'ENG1011', 'English for Engineers', 'Embedded - Lab & Project', '2', 'S', 'Nov-2016', '27-Dec-2016', 'NIL', '45', 'EXC1001', 'Service to the Society(National Service Scheme)', 'Lab Only', '2', 'P', 'Apr-2018', '11-May-2018', 'NIL', '46', 'GER1001', 'Grundstufe Deutsch', 'Theory Only', '2', 'S', 'Nov-2016', '23-Dec-2016', 'NIL', '47', 'HUM1021', 'Ethics and Values', 'Embedded Project', '-', 'May-2017', '19-Jun-2017', 'NIL', '48', 'HUM1021', 'Ethics and Values', 'Embedded Theory', '-', 'May-2017', '19-Jun-2017', 'NIL', '49', 'HUM1021', 'Ethics and Values', 'Embedded - Theory & Project', '2', 'B', 'May-2017', '19-Jun-2017', 'NIL', '50', 'HUM1039', 'Community Development in India', 'Embedded Project', '-', 'Apr-2018', '09-May-2018', 'NIL', '51', 'HUM1039', 'Community Development in India', 'Embedded Theory', '-', 'Apr-2018', '09-May-2018', 'NIL', '52', 'HUM1039', 'Community Development in India', 'Embedded - Theory & Project', '3', 'B', 'Apr-2018', '09-May-2018', 'NIL', '53', 'MAT1011', 'Calculus for Engineers', 'Embedded Theory', '-', 'Nov-2017', '27-Dec-2017', 'NIL', '54', 'MAT1011', 'Calculus for Engineers', 'Embedded Lab', '-', 'Nov-2017', '27-Dec-2017', 'NIL', '55', 'MAT1011', 'Calculus for Engineers', 'Embedded - Theory & Lab', '4', 'B', 'Nov-2017', '27-Dec-2017', 'NIL', '56', 'MAT1011', 'Calculus for Engineers', 'Embedded - Theory & Lab', '4', 'N', 'Nov-2016', '23-Dec-2016', 'NIL', '57', 'MAT1014', 'Discrete Mathematics and Graph Theory', 'Theory Only', '4', 'B', 'Nov-2017', '19-Dec-2017', 'NIL', '58', 'MAT2001', 'Statistics for Engineers', 'Embedded Lab', '-', 'May-2017', '19-Jun-2017', 'NIL', '59', 'MAT2001', 'Statistics for Engineers', 'Embedded Theory', '-', 'May-2017', '19-Jun-2017', 'NIL', '60', 'MAT2001', 'Statistics for Engineers', 'Embedded - Theory & Lab', '4', 'B', 'May-2017', '19-Jun-2017', 'NIL', '61', 'MAT2002', 'Applications of Differential and Difference Equations', 'Embedded Lab', '-', 'Apr-2018', '09-May-2018', 'NIL', '62', 'MAT2002', 'Applications of Differential and Difference Equations', 'Embedded Theory', '-', 'Apr-2018', '09-May-2018', 'NIL', '63', 'MAT2002', 'Applications of Differential and Difference Equations', 'Embedded - Theory & Lab', '4', 'B', 'Apr-2018', '09-May-2018', 'NIL', '64', 'MGT1022', 'Lean Start-up Management', 'Embedded Project', '-', 'Nov-2017', '20-Dec-2017', 'NIL', '65', 'MGT1022', 'Lean Start-up Management', 'Embedded - Theory & Project', '2', 'A', 'Nov-2017', '20-Dec-2017', 'NIL', '66', 'MGT1022', 'Lean Start-up Management', 'Embedded Theory', '-', 'Nov-2017', '20-Dec-2017', 'NIL', '67', 'PHY1001', 'Engineering Physics', 'Embedded - Theory, Lab & Project', '5', 'A', 'Nov-2016', '26-Dec-2016', 'NIL', '68', 'PHY1999', 'Introduction to Innovative Projects', 'Embedded Project', '-', 'May-2017', '08-Jul-2017', 'NIL', '69', 'PHY1999', 'Introduction to Innovative Projects', 'Embedded Theory', '-', 'May-2017', '08-Jul-2017', 'NIL', '70', 'PHY1999', 'Introduction to Innovative Projects', 'Embedded - Theory & Project', '2', 'S', 'May-2017', '08-Jul-2017', 'NIL', '71', 'STS1001', 'Soft Skills', 'Soft Skill', '1', 'S', 'May-2017', '14-Jun-2017', 'NIL', '72', 'STS2001', 'Soft Skills', 'Soft Skill', '1', 'C', 'Nov-2017', '28-Dec-2017', 'NIL', '73', 'STS2002', 'Introduction to Etiquette', 'Soft Skill', '1', 'B', 'Apr-2018', '09-May-2018', 'NIL']\n"
     ]
    }
   ],
   "source": [
    "divider = content.index('Credits Registered')\n",
    "subjects_data = content[21:divider]\n",
    "subjects_data_length = len(subjects_data)\n",
    "print(subjects_data)"
   ]
  },
  {
   "cell_type": "code",
   "execution_count": null,
   "metadata": {
    "collapsed": true
   },
   "outputs": [],
   "source": []
  }
 ],
 "metadata": {
  "kernelspec": {
   "display_name": "Python 3",
   "language": "python",
   "name": "python3"
  },
  "language_info": {
   "codemirror_mode": {
    "name": "ipython",
    "version": 3
   },
   "file_extension": ".py",
   "mimetype": "text/x-python",
   "name": "python",
   "nbconvert_exporter": "python",
   "pygments_lexer": "ipython3",
   "version": "3.6.3"
  }
 },
 "nbformat": 4,
 "nbformat_minor": 2
}
