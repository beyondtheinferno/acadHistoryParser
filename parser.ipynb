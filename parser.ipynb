{
 "cells": [
  {
   "cell_type": "code",
   "execution_count": null,
   "metadata": {
    "collapsed": true
   },
   "outputs": [],
   "source": [
    "import docx2txt\n",
    "import pandas as pd\n",
    "import numpy as np"
   ]
  },
  {
   "cell_type": "code",
   "execution_count": null,
   "metadata": {
    "collapsed": true
   },
   "outputs": [],
   "source": [
    "class Student_details:\n",
    "    regNo = \"\"\n",
    "    name = \"\"\n",
    "    program = \"\"\n",
    "    school = \"\"\n",
    "    creditsRegistered = 0\n",
    "    creditsEarned = 0\n",
    "    CGPA = 0\n",
    "    \n",
    "    def getNameDetails(self, metadata, value):\n",
    "        if(metadata == \"Reg. No.\"):\n",
    "            self.regNo = value\n",
    "        if(metadata == \"Name\"):\n",
    "            self.name = value.title()\n",
    "        if(metadata == \"Program\"):\n",
    "            self.program = value[8:]\n",
    "        if(metadata == \"School\"):\n",
    "            self.school = value\n",
    "\n",
    "    keys = ['S', 'A', 'B', 'C', 'D', 'E', 'F', 'N']\n",
    "    gradeCategories = dict.fromkeys(keys, 0)\n",
    "    noOfCreditsRegistered = 0\n",
    "    noOfCreditsAcquired = 0\n",
    "    def getGradeCategories(self, value):\n",
    "        for i in range(0, 8):\n",
    "            self.gradeCategories[self.keys[i]] = value[-(8-i)]\n",
    "        self.noOfCreditsRegistered = int(value[3])\n",
    "        self.noOfCreditsAcquired = int(value[4])\n",
    "        self.CGPA = float(value[5])"
   ]
  },
  {
   "cell_type": "code",
   "execution_count": null,
   "metadata": {
    "collapsed": true
   },
   "outputs": [],
   "source": [
    "#Instance of the student\n",
    "student = Student_details()"
   ]
  },
  {
   "cell_type": "code",
   "execution_count": null,
   "metadata": {},
   "outputs": [],
   "source": [
    "#convert DOC -> STRING, split STRING -> LIST CONTAINING LINES\n",
    "abc = docx2txt.process(r'history.docx')\n",
    "content = []\n",
    "for line in abc.splitlines():\n",
    "  if line != '':\n",
    "    content.append(line)"
   ]
  },
  {
   "cell_type": "code",
   "execution_count": null,
   "metadata": {},
   "outputs": [],
   "source": [
    "#Get STUDENT details\n",
    "metadata = content[0:11]\n",
    "metadata_length = len(metadata)\n",
    "\n",
    "for i in range(metadata_length):\n",
    "    if(i < metadata_length-1):\n",
    "        student.getNameDetails(metadata[i], metadata[i+1])\n",
    "    \n",
    "print(\"Name -> \", student.name)\n",
    "print(\"Reg. No. -> \", student.regNo)\n",
    "print(\"Program ->\", student.program)\n",
    "print(\"School ->\", student.school)"
   ]
  },
  {
   "cell_type": "code",
   "execution_count": null,
   "metadata": {},
   "outputs": [],
   "source": [
    "divider = content.index('Credits Registered')\n",
    "subjects_data = content[21:divider]\n",
    "subjects_data_length = len(subjects_data)"
   ]
  },
  {
   "cell_type": "code",
   "execution_count": null,
   "metadata": {
    "collapsed": true
   },
   "outputs": [],
   "source": [
    "subjects_list = []\n",
    "counter = 2\n",
    "a = []\n",
    "\n",
    "for i in range(subjects_data_length):\n",
    "    if(i < subjects_data_length-1):\n",
    "        if(subjects_data[i] == str(counter) and len(subjects_data[i+1]) == 7):\n",
    "            subjects_list.append(a)\n",
    "            counter+=1\n",
    "            a = []\n",
    "    a.append(subjects_data[i])\n",
    "\n",
    "subjects_list.append(a)"
   ]
  },
  {
   "cell_type": "code",
   "execution_count": null,
   "metadata": {},
   "outputs": [],
   "source": [
    "#Get CREDIT details\n",
    "credit_data = content[divider:]\n",
    "student.getGradeCategories(credit_data)\n",
    "print(student.gradeCategories)\n",
    "print(\"No. of Credits Registered -> \", student.noOfCreditsRegistered)\n",
    "print(\"No. of Credits Acquired -> \", student.noOfCreditsAcquired)\n",
    "print(\"CGPA ->\", student.CGPA)"
   ]
  },
  {
   "cell_type": "code",
   "execution_count": null,
   "metadata": {},
   "outputs": [],
   "source": [
    "column_labels = [\"S.No.\", \"Course_Code\", \"Course Name\", \"Course Type\", \"Credit\", \"Grade\", \"Exam Held\", \"Result Date\", \"Course Option\"]\n",
    "p = pd.DataFrame(subjects_list, columns = column_labels)\n",
    "academic_dataframe = p[p.Credit != '-']"
   ]
  },
  {
   "cell_type": "code",
   "execution_count": null,
   "metadata": {},
   "outputs": [],
   "source": [
    "#Rectify S.No. continuity and rectify index labels\n",
    "ah_size = academic_dataframe['Course_Code'].count()\n",
    "s_no = np.arange(1, ah_size+1)\n",
    "academic_dataframe['S.No.'] = s_no.transpose()\n",
    "academic_dataframe = academic_dataframe.set_index('S.No.', drop=True)\n",
    "academic_dataframe"
   ]
  },
  {
   "cell_type": "code",
   "execution_count": null,
   "metadata": {},
   "outputs": [],
   "source": [
    "#Change Credits column from character to integers"
   ]
  }
 ],
 "metadata": {
  "kernelspec": {
   "display_name": "Python 3",
   "language": "python",
   "name": "python3"
  },
  "language_info": {
   "codemirror_mode": {
    "name": "ipython",
    "version": 3
   },
   "file_extension": ".py",
   "mimetype": "text/x-python",
   "name": "python",
   "nbconvert_exporter": "python",
   "pygments_lexer": "ipython3",
   "version": "3.6.3"
  }
 },
 "nbformat": 4,
 "nbformat_minor": 2
}
